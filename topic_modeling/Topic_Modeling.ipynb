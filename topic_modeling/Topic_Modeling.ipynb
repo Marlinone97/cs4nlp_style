{
 "cells": [
  {
   "cell_type": "code",
   "execution_count": 1,
   "id": "38edc219-d13c-4cbf-846f-5f8e5a67c41a",
   "metadata": {},
   "outputs": [
    {
     "name": "stdout",
     "output_type": "stream",
     "text": [
      "Requirement already satisfied: tomotopy in /home/apotter/miniconda3/lib/python3.10/site-packages (0.13.0)\n",
      "Requirement already satisfied: numpy<2,>=1.11.0 in /home/apotter/miniconda3/lib/python3.10/site-packages (from tomotopy) (1.23.1)\n",
      "Note: you may need to restart the kernel to use updated packages.\n"
     ]
    }
   ],
   "source": [
    "%pip install tomotopy"
   ]
  },
  {
   "cell_type": "code",
   "execution_count": 2,
   "id": "e2dac7ed-9d2b-48a4-b2f1-cdb2ba561ade",
   "metadata": {},
   "outputs": [
    {
     "name": "stdout",
     "output_type": "stream",
     "text": [
      "✅ All original columns + topic labels saved to 'dialogues_with_topics_labeled.csv'\n"
     ]
    }
   ],
   "source": [
    "import pandas as pd\n",
    "import tomotopy\n",
    "import numpy as np\n",
    "import ast\n",
    "import re\n",
    "\n",
    "# === Load full CSVs\n",
    "trump_df = pd.read_csv(\"trump_speaker_rows.csv\")\n",
    "obama_df = pd.read_csv(\"obama_speaker_rows.csv\")\n",
    "\n",
    "# === Clean function (lowercase + remove short words)\n",
    "def clean_dialogue(utt_str):\n",
    "    utts = ast.literal_eval(utt_str) if isinstance(utt_str, str) else utt_str\n",
    "    text = \" \".join(utts).lower()\n",
    "    words = re.findall(r\"\\b\\w{5,}\\b\", text)\n",
    "    return \" \".join(words)\n",
    "\n",
    "# === Add cleaned text + source tag\n",
    "trump_df[\"clean_dialogue\"] = trump_df[\"utt\"].apply(clean_dialogue)\n",
    "trump_df[\"source\"] = 1\n",
    "\n",
    "obama_df[\"clean_dialogue\"] = obama_df[\"utt\"].apply(clean_dialogue)\n",
    "obama_df[\"source\"] = 0\n",
    "\n",
    "# === Combine into one full DataFrame (with all columns!)\n",
    "full_df = pd.concat([trump_df, obama_df], ignore_index=True)\n",
    "\n",
    "# === LDA training using cleaned dialogue only\n",
    "model = tomotopy.LDAModel(k=25)\n",
    "for text in full_df[\"clean_dialogue\"]:\n",
    "    model.add_doc(text.split())\n",
    "model.train(1000)\n",
    "\n",
    "# === Compute dominant topics\n",
    "dominant_topics = [np.argmax(doc.get_topic_dist()) for doc in model.docs]\n",
    "full_df[\"dominant_topic\"] = dominant_topics\n",
    "\n",
    "# === Save ALL columns, correctly\n",
    "full_df.to_csv(\"dialogues_with_topics_labeled.csv\", index=False)\n",
    "print(\"✅ All original columns + topic labels saved to 'dialogues_with_topics_labeled.csv'\")\n"
   ]
  },
  {
   "cell_type": "code",
   "execution_count": 3,
   "id": "965a03ce-ee5f-4f85-a9b8-81163e0053ca",
   "metadata": {},
   "outputs": [
    {
     "name": "stdout",
     "output_type": "stream",
     "text": [
      "\n",
      "🧠 Topics learned by the LDA model:\n",
      "========================================\n",
      "Topic  0: trump, donald, money, business, estate, great, million, apprentice, company, beach\n",
      "Topic  1: trade, countries, world, united, russia, climate, china, states, change, agreement\n",
      "Topic  2: country, president, american, their, people, which, about, america, those, political\n",
      "Topic  3: president, obama, house, white, congress, office, first, united, today, states\n",
      "Topic  4: morning, martin, trayvon, defense, airport, george, baghdad, troops, denver, zimmerman\n",
      "Topic  5: terrorism, terrorist, attack, laden, muslim, muslims, attacks, terror, terrorists, killed\n",
      "Topic  6: immigration, governor, country, people, senator, would, america, trump, states, thank\n",
      "Topic  7: republican, party, debate, candidates, senator, republicans, voters, presidential, mccain, political\n",
      "Topic  8: think, about, people, going, right, because, would, really, there, thing\n",
      "Topic  9: nuclear, world, north, korea, united, israel, sanctions, states, would, china\n",
      "Topic 10: larry, night, michael, would, rosie, never, great, years, favorite, interview\n",
      "Topic 11: health, about, black, insurance, white, people, latino, african, community, americans\n",
      "Topic 12: think, david, republicans, party, court, times, dionne, brooks, democrats, washington\n",
      "Topic 13: trump, donald, clinton, hillary, campaign, about, night, speech, after, saying\n",
      "Topic 14: about, would, president, state, former, information, general, officials, department, morning\n",
      "Topic 15: there, going, other, about, where, today, could, being, still, those\n",
      "Topic 16: family, christmas, church, after, reagan, children, father, service, today, rights\n",
      "Topic 17: police, people, right, these, water, storm, coming, house, officers, coast\n",
      "Topic 18: trump, president, russia, house, against, allegations, white, intelligence, donald, election\n",
      "Topic 19: tonight, showbiz, night, britney, wedding, movie, magazine, today, apprentice, morning\n",
      "Topic 20: women, father, woman, melania, white, anger, ivanka, person, kelly, family\n",
      "Topic 21: first, after, years, story, three, american, through, young, could, california\n",
      "Topic 22: clinton, campaign, state, election, sanders, romney, states, hillary, democratic, carolina\n",
      "Topic 23: economy, would, money, government, budget, percent, spending, economic, years, companies\n",
      "Topic 24: syria, military, against, forces, troops, security, united, afghanistan, ground, putin\n"
     ]
    }
   ],
   "source": [
    "# Print top 10 words per topic\n",
    "print(\"\\n🧠 Topics learned by the LDA model:\\n\" + \"=\"*40)\n",
    "\n",
    "for topic_id in range(model.k):\n",
    "    top_words = model.get_topic_words(topic_id, top_n=10)\n",
    "    words_str = \", \".join([word for word, _ in top_words])\n",
    "    print(f\"Topic {topic_id:>2}: {words_str}\")\n",
    "\n"
   ]
  }
 ],
 "metadata": {
  "kernelspec": {
   "display_name": "Python (transformers-env)",
   "language": "python",
   "name": "transformers-env"
  },
  "language_info": {
   "codemirror_mode": {
    "name": "ipython",
    "version": 3
   },
   "file_extension": ".py",
   "mimetype": "text/x-python",
   "name": "python",
   "nbconvert_exporter": "python",
   "pygments_lexer": "ipython3",
   "version": "3.10.13"
  }
 },
 "nbformat": 4,
 "nbformat_minor": 5
}
