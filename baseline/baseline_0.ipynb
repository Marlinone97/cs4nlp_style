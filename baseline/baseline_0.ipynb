{
 "cells": [
  {
   "cell_type": "code",
   "execution_count": 1,
   "id": "7ef0bfd2-1253-4918-9630-01adfeae4400",
   "metadata": {},
   "outputs": [
    {
     "name": "stdout",
     "output_type": "stream",
     "text": [
      "\n",
      "🗣️  Original Dialogue #12\n",
      "========================================\n",
      "\n",
      "\n",
      "DAVID GREENE, HOST:\n",
      "  A different set of judges will crown a new Miss USA next month, but you will not see\n",
      "  this coronation on Univision. The Spanish-language network has canceled the telecast\n",
      "  after Donald Trump made controversial comments about Mexican immigrants. He is part-\n",
      "  owner of the Miss Universe Organization, which produces Miss USA. Trump made his\n",
      "  comments while announcing his presidential campaign. Alexandra Starr from NPR's Code\n",
      "  Switch team reports.\n",
      "\n",
      "ALEXANDRA STARR, BYLINE:\n",
      "  If you follow politics or watch television, you have probably heard Donald Trump's\n",
      "  comments about immigrants who come from Mexico and other Latin American countries.\n",
      "\n",
      "DONALD TRUMP:\n",
      "  They're sending people that have lots of problems, and they're bringing those problems\n",
      "  with us. They're bringing drugs. They're bringing crime. They're rapists. And some, I\n",
      "  assume, are good people.\n",
      "\n",
      "ALEXANDRA STARR, BYLINE:\n",
      "  Despite that small note of conciliation, Trump's comments did not sit well with Latino\n",
      "  immigrants, or with the television network many of them watch, Univision, the largest\n",
      "  Spanish-language broadcaster in the U.S. In a statement, the company said that based on\n",
      "  Trump's remarks, it was ending its relationship with the Miss Universe Organization.\n",
      "  That means it will no longer broadcast the Miss Universe or Miss USA pageants.\n",
      "\n",
      "SONIA ORTIZ:\n",
      "  I back up Univision.\n",
      "\n",
      "ALEXANDRA STARR, BYLINE:\n",
      "  Sonia Ortiz is a resident of East Harlem. She says she's a community activist and a\n",
      "  native of Puerto Rico.\n",
      "\n",
      "SONIA ORTIZ:\n",
      "  I think they're doing the right thing because all their viewers are Latinos.\n",
      "\n",
      "ALEXANDRA STARR, BYLINE:\n",
      "  And it's not just the viewers. Two Latino television stars have announced they will not\n",
      "  be working with Trump. Rosalyn Sanchez and Christian de la Fuentes, both actors on the\n",
      "  Lifetime TV show \"Devious Maids\" announced they are pulling out of co-hosting the\n",
      "  Spanish-language simulcast of the Miss USA pageant. Not all Univision fans support the\n",
      "  network's decision to sever ties with Trump. Juan Rosa, another Puerto Rican resident of\n",
      "  East Harlem, points out that viewers like himself will miss seeing the Miss USA and Miss\n",
      "  Universe pageants.\n",
      "\n",
      "JUAN ROSA:\n",
      "  (Through interpreter) The public is missing something they really like. They should find\n",
      "  another way to make him see that what he said doesn't make any sense.\n",
      "\n",
      "ALEXANDRA STARR, BYLINE:\n",
      "  The decision not to broadcast the pageants means Trump could take a hit economically.\n",
      "  Last year, more than 2 million people watched the Miss Universe pageant on Univision.\n",
      "  Robert Thompson is a professor of television and popular culture at Syracuse University.\n",
      "\n",
      "ROBERT THOMPSON:\n",
      "  This is a operation that gets very, very big ratings, and when it's taken off the table,\n",
      "  that's a lot of people who aren't going to see it.\n",
      "\n",
      "ALEXANDRA STARR, BYLINE:\n",
      "  Trump has announced that he plans to sue Univision for breach of contract. On Twitter,\n",
      "  he said the company had backed out of their partnership because he exposed the terrible\n",
      "  trade deals the U.S. makes with Mexico. Professor Thompson believes the controversy may\n",
      "  end up being a good deal for Trump himself. He calls the comments calculated and says\n",
      "  they fit the Trump brand.\n",
      "\n",
      "ROBERT THOMPSON:\n",
      "  This is really consistent with that brand, which is a guy that goes out there and says\n",
      "  outrageous, sometimes kooky and sometimes offensive kinds of things.\n",
      "\n",
      "ALEXANDRA STARR, BYLINE:\n",
      "  Trump will have more opportunities to broadcast that brand on the campaign trail.\n",
      "  Alexandra Starr, NPR News, New York.\n",
      "\n",
      "========================================\n"
     ]
    }
   ],
   "source": [
    "import pandas as pd\n",
    "import ast\n",
    "import textwrap\n",
    "\n",
    "df = pd.read_csv(\"trump_speaker_rows.csv\")\n",
    "\n",
    "row_idx = 12\n",
    "\n",
    "utt = df.iloc[row_idx][\"utt\"]\n",
    "utt = ast.literal_eval(utt) if isinstance(utt, str) else utt\n",
    "\n",
    "speakers = df.iloc[row_idx][\"speaker\"]\n",
    "speakers = ast.literal_eval(speakers) if isinstance(speakers, str) else speakers\n",
    "\n",
    "print(f\"\\n🗣️  Original Dialogue #{row_idx}\\n\" + \"=\" * 40 + \"\\n\")\n",
    "\n",
    "previous_speaker = None\n",
    "dialogue = \"\"\n",
    "for spk, line in zip(speakers, utt):\n",
    "    dialogue += f\"{spk.upper()}:\\n{line}\\n\\n\"\n",
    "    if spk != previous_speaker:\n",
    "        print(f\"\\n{spk.upper()}:\")\n",
    "        previous_speaker = spk\n",
    "    wrapped = textwrap.fill(line, width=90, initial_indent=\"  \", subsequent_indent=\"  \")\n",
    "    print(wrapped)\n",
    "\n",
    "print(\"\\n\" + \"=\" * 40)"
   ]
  },
  {
   "cell_type": "markdown",
   "id": "4a2548cc-352d-4695-a7dc-88fa1476fb79",
   "metadata": {},
   "source": [
    "On the cluster open a new terminal :\n",
    "OLLAMA_MODELS=/cluster/courses/ml4h/llm/models /cluster/courses/ml4h/llm/bin/ollama serve\n",
    "\n",
    "/cluster/courses/ml4h/llm/bin/ollama list will show available models"
   ]
  },
  {
   "cell_type": "code",
   "execution_count": 2,
   "id": "a503639b-51e2-4f5c-a97b-af0eb5a57a65",
   "metadata": {},
   "outputs": [
    {
     "name": "stdout",
     "output_type": "stream",
     "text": [
      "NAME                ID              SIZE      MODIFIED     \n",
      "gemma2:9b           ff02c3702f32    5.4 GB    3 months ago    \n",
      "gemma2:2b           8ccf136fdd52    1.6 GB    3 months ago    \n",
      "llama3.1:8b         46e0c10c039e    4.9 GB    3 months ago    \n",
      "llama3.2:3b         a80c4f17acd5    2.0 GB    3 months ago    \n",
      "llama3.2:1b         baf6a787fdff    1.3 GB    3 months ago    \n",
      "deepseek-r1:7b      0a8c26691023    4.7 GB    3 months ago    \n",
      "deepseek-r1:1.5b    a42b25d8c10a    1.1 GB    3 months ago    \n"
     ]
    }
   ],
   "source": [
    "!/cluster/courses/ml4h/llm/bin/ollama list"
   ]
  },
  {
   "cell_type": "code",
   "execution_count": 3,
   "id": "cf4dea04-60aa-49b9-8a36-9c2b6e9700b4",
   "metadata": {},
   "outputs": [
    {
     "name": "stdout",
     "output_type": "stream",
     "text": [
      "DAVID GREENE, HOST:\n",
      "A different set of judges will crown a new Miss USA next month, but you will not see this coronation on Univision. The Spanish-language network has canceled the telecast after Donald Trump made controversial comments about Mexican immigrants. He is part-owner of the Miss Universe Organization, which produces Miss USA. Trump made his comments while announcing his presidential campaign. Alexandra Starr from NPR's Code Switch team reports.\n",
      "\n",
      "ALEXANDRA STARR, BYLINE:\n",
      "If you follow politics or watch television, you have probably heard Donald Trump's comments about immigrants who come from Mexico and other Latin American countries.\n",
      "\n",
      "DONALD TRUMP:  I think we need to carefully consider the challenges posed by immigration. We must ensure that the individuals entering our country are law-abiding citizens who contribute to the well-being of our communities. I believe it is important to have a comprehensive approach to immigration reform that addresses both security concerns and the economic needs of our nation. \n",
      "\n",
      "ALEXANDRA STARR, BYLINE:\n",
      "Despite that small note of conciliation, Trump's comments did not sit well with Latino immigrants, or with the television network many of them watch, Univision, the largest Spanish-language broadcaster in the U.S. In a statement, the company said that based on Trump's remarks, it was ending its relationship with the Miss Universe Organization. That means it will no longer broadcast the Miss Universe or Miss USA pageants.\n",
      "\n",
      "SONIA ORTIZ:\n",
      "I back up Univision.\n",
      "\n",
      "ALEXANDRA STARR, BYLINE:\n",
      "Sonia Ortiz is a resident of East Harlem. She says she's a community activist and a native of Puerto Rico.\n",
      "\n",
      "SONIA ORTIZ:\n",
      "I think they're doing the right thing because all their viewers are Latinos.\n",
      "\n",
      "ALEXANDRA STARR, BYLINE:\n",
      "And it's not just the viewers. Two Latino television stars have announced they will not be working with Trump. Rosalyn Sanchez and Christian de la Fuentes, both actors on the Lifetime TV show \"Devious Maids\" announced they are pulling out of co-hosting the Spanish-language simulcast of the Miss USA pageant. Not all Univision fans support the network's decision to sever ties with Trump. Juan Rosa, another Puerto Rican resident of East Harlem, points out that viewers like himself will miss seeing the Miss USA and Miss Universe pageants.\n",
      "\n",
      "JUAN ROSA:\n",
      "(Through interpreter) The public is missing something they really like. They should find another way to make him see that what he said doesn't make any sense.\n",
      "\n",
      "ALEXANDRA STARR, BYLINE:\n",
      "The decision not to broadcast the pageants means Trump could take a hit economically. Last year, more than 2 million people watched the Miss Universe pageant on Univision. Robert Thompson is a professor of television and popular culture at Syracuse University.\n",
      "\n",
      "ROBERT THOMPSON:\n",
      "This is a operation that gets very, very big ratings, and when it's taken off the table, that's a lot of people who aren't going to see it.\n",
      "\n",
      "ALEXANDRA STARR, BYLINE:\n",
      "Trump has announced that he plans to sue Univision for breach of contract. On Twitter, he said the company had backed out of their partnership because he exposed the terrible trade deals the U.S. makes with Mexico. Professor Thompson believes the controversy may end up being a good deal for Trump himself. He calls the comments calculated and says they fit the Trump brand.\n",
      "\n",
      "ROBERT THOMPSON:\n",
      "This is really consistent with that brand, which is a guy that goes out there and says outrageous, sometimes kooky and sometimes offensive kinds of things.\n",
      "\n",
      "ALEXANDRA STARR, BYLINE:\n",
      "Trump will have more opportunities to broadcast that brand on the campaign trail. Alexandra Starr, NPR News, New York.\n",
      "\n",
      "\n",
      "\n",
      "\n",
      "\n"
     ]
    }
   ],
   "source": [
    "from ollama import Client\n",
    "\n",
    "client = Client()\n",
    "\n",
    "prompt = \"\"\"\\\n",
    "You are a political speech transformation assistant.\n",
    "\n",
    "Your task is to **rewrite only the utterances by DONALD TRUMP** into the speaking style of **Barack Obama**, while **preserving the original meaning** of each utterance.\n",
    "\n",
    "Barack Obama's style is measured, thoughtful, articulate, and often includes rhetorical balance and emphasis on unity or principle. Donald Trump's style is often blunt and confrontational — you must rewrite his parts so that they sound as if Obama had delivered them, **without changing their core message or factual content**.\n",
    "\n",
    "The conversation involves multiple speakers. Do **not change anything spoken by other participants** (e.g. Rachel Martin, Hillary Clinton, Scott Detrow). Maintain the order and speaker labels exactly as in the original.\n",
    "\n",
    "**Return the transformed dialogue using the same format**:\n",
    "\n",
    "SPEAKER NAME (in uppercase):  \n",
    "Text of the utterance.\n",
    "\n",
    "Only the style of Trump’s lines should change. All other content and structure must remain intact.\n",
    "\"\"\"\n",
    "\n",
    "client = Client()\n",
    "messages = [\n",
    "    {\"role\": \"user\", \"content\": prompt},\n",
    "    {\"role\": \"user\", \"content\": dialogue}\n",
    "]\n",
    "\n",
    "response = client.chat(model=\"gemma2:9b\", messages=messages)\n",
    "print(response[\"message\"][\"content\"])"
   ]
  },
  {
   "cell_type": "code",
   "execution_count": 4,
   "id": "64a8773a-e98b-4b01-a713-a5cd3bfe341c",
   "metadata": {},
   "outputs": [
    {
     "name": "stdout",
     "output_type": "stream",
     "text": [
      "Response saved to obama_style_rewrite_0.txt\n"
     ]
    }
   ],
   "source": [
    "import datetime\n",
    "\n",
    "output_text = response[\"message\"][\"content\"]\n",
    "\n",
    "filename = f\"obama_style_rewrite_0.txt\"\n",
    "\n",
    "with open(filename, \"w\", encoding=\"utf-8\") as f:\n",
    "    f.write(output_text)\n",
    "\n",
    "print(f\"Response saved to {filename}\")"
   ]
  },
  {
   "cell_type": "code",
   "execution_count": 5,
   "id": "5e9c0175-9f96-4ca4-88e9-449514b6be16",
   "metadata": {},
   "outputs": [
    {
     "name": "stdout",
     "output_type": "stream",
     "text": [
      "Original saved to original_0.txt\n"
     ]
    }
   ],
   "source": [
    "output_text = dialogue\n",
    "\n",
    "filename = f\"original_0.txt\"\n",
    "\n",
    "with open(filename, \"w\", encoding=\"utf-8\") as f:\n",
    "    f.write(output_text)\n",
    "\n",
    "print(f\"Original saved to {filename}\")"
   ]
  }
 ],
 "metadata": {
  "kernelspec": {
   "display_name": "Python (transformers-env)",
   "language": "python",
   "name": "transformers-env"
  },
  "language_info": {
   "codemirror_mode": {
    "name": "ipython",
    "version": 3
   },
   "file_extension": ".py",
   "mimetype": "text/x-python",
   "name": "python",
   "nbconvert_exporter": "python",
   "pygments_lexer": "ipython3",
   "version": "3.10.13"
  }
 },
 "nbformat": 4,
 "nbformat_minor": 5
}
