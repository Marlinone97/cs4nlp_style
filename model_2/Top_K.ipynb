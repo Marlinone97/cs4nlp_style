{
 "cells": [
  {
   "cell_type": "code",
   "execution_count": 1,
   "id": "4e660cb6-547c-4743-b105-cb0818499e8d",
   "metadata": {},
   "outputs": [
    {
     "name": "stdout",
     "output_type": "stream",
     "text": [
      "\n",
      "🗣️  Original Dialogue #12\n",
      "========================================\n",
      "\n",
      "\n",
      "DAVID GREENE, HOST:\n",
      "  A different set of judges will crown a new Miss USA next month, but you will not see\n",
      "  this coronation on Univision. The Spanish-language network has canceled the telecast\n",
      "  after Donald Trump made controversial comments about Mexican immigrants. He is part-\n",
      "  owner of the Miss Universe Organization, which produces Miss USA. Trump made his\n",
      "  comments while announcing his presidential campaign. Alexandra Starr from NPR's Code\n",
      "  Switch team reports.\n",
      "\n",
      "ALEXANDRA STARR, BYLINE:\n",
      "  If you follow politics or watch television, you have probably heard Donald Trump's\n",
      "  comments about immigrants who come from Mexico and other Latin American countries.\n",
      "\n",
      "DONALD TRUMP:\n",
      "  They're sending people that have lots of problems, and they're bringing those problems\n",
      "  with us. They're bringing drugs. They're bringing crime. They're rapists. And some, I\n",
      "  assume, are good people.\n",
      "\n",
      "ALEXANDRA STARR, BYLINE:\n",
      "  Despite that small note of conciliation, Trump's comments did not sit well with Latino\n",
      "  immigrants, or with the television network many of them watch, Univision, the largest\n",
      "  Spanish-language broadcaster in the U.S. In a statement, the company said that based on\n",
      "  Trump's remarks, it was ending its relationship with the Miss Universe Organization.\n",
      "  That means it will no longer broadcast the Miss Universe or Miss USA pageants.\n",
      "\n",
      "SONIA ORTIZ:\n",
      "  I back up Univision.\n",
      "\n",
      "ALEXANDRA STARR, BYLINE:\n",
      "  Sonia Ortiz is a resident of East Harlem. She says she's a community activist and a\n",
      "  native of Puerto Rico.\n",
      "\n",
      "SONIA ORTIZ:\n",
      "  I think they're doing the right thing because all their viewers are Latinos.\n",
      "\n",
      "ALEXANDRA STARR, BYLINE:\n",
      "  And it's not just the viewers. Two Latino television stars have announced they will not\n",
      "  be working with Trump. Rosalyn Sanchez and Christian de la Fuentes, both actors on the\n",
      "  Lifetime TV show \"Devious Maids\" announced they are pulling out of co-hosting the\n",
      "  Spanish-language simulcast of the Miss USA pageant. Not all Univision fans support the\n",
      "  network's decision to sever ties with Trump. Juan Rosa, another Puerto Rican resident of\n",
      "  East Harlem, points out that viewers like himself will miss seeing the Miss USA and Miss\n",
      "  Universe pageants.\n",
      "\n",
      "JUAN ROSA:\n",
      "  (Through interpreter) The public is missing something they really like. They should find\n",
      "  another way to make him see that what he said doesn't make any sense.\n",
      "\n",
      "ALEXANDRA STARR, BYLINE:\n",
      "  The decision not to broadcast the pageants means Trump could take a hit economically.\n",
      "  Last year, more than 2 million people watched the Miss Universe pageant on Univision.\n",
      "  Robert Thompson is a professor of television and popular culture at Syracuse University.\n",
      "\n",
      "ROBERT THOMPSON:\n",
      "  This is a operation that gets very, very big ratings, and when it's taken off the table,\n",
      "  that's a lot of people who aren't going to see it.\n",
      "\n",
      "ALEXANDRA STARR, BYLINE:\n",
      "  Trump has announced that he plans to sue Univision for breach of contract. On Twitter,\n",
      "  he said the company had backed out of their partnership because he exposed the terrible\n",
      "  trade deals the U.S. makes with Mexico. Professor Thompson believes the controversy may\n",
      "  end up being a good deal for Trump himself. He calls the comments calculated and says\n",
      "  they fit the Trump brand.\n",
      "\n",
      "ROBERT THOMPSON:\n",
      "  This is really consistent with that brand, which is a guy that goes out there and says\n",
      "  outrageous, sometimes kooky and sometimes offensive kinds of things.\n",
      "\n",
      "ALEXANDRA STARR, BYLINE:\n",
      "  Trump will have more opportunities to broadcast that brand on the campaign trail.\n",
      "  Alexandra Starr, NPR News, New York.\n",
      "\n",
      "========================================\n"
     ]
    }
   ],
   "source": [
    "import pandas as pd\n",
    "import ast \n",
    "import textwrap\n",
    "\n",
    "df = pd.read_csv(\"trump_speaker_rows.csv\")\n",
    "\n",
    "# TO CHOOSE A DIALOGUE\n",
    "row_idx = 12\n",
    "\n",
    "utt = df.iloc[row_idx][\"utt\"]\n",
    "utt = ast.literal_eval(utt) if isinstance(utt, str) else utt\n",
    "\n",
    "speakers = df.iloc[row_idx][\"speaker\"]\n",
    "speakers = ast.literal_eval(speakers) if isinstance(speakers, str) else speakers\n",
    "\n",
    "dialogue = \"\"\n",
    "previous_speaker = None\n",
    "print(f\"\\n🗣️  Original Dialogue #{row_idx}\\n\" + \"=\" * 40 + \"\\n\")\n",
    "for spk, line in zip(speakers, utt):\n",
    "    dialogue += f\"{spk.upper()}: {line}\\n\"\n",
    "    if spk != previous_speaker:\n",
    "        print(f\"\\n{spk.upper()}:\")\n",
    "        previous_speaker = spk\n",
    "    wrapped = textwrap.fill(line, width=90, initial_indent=\"  \", subsequent_indent=\"  \")\n",
    "    print(wrapped)\n",
    "print(\"\\n\" + \"=\" * 40)"
   ]
  },
  {
   "cell_type": "code",
   "execution_count": 2,
   "id": "24c6146a-f556-4369-89bf-d6adac96a88d",
   "metadata": {},
   "outputs": [
    {
     "name": "stdout",
     "output_type": "stream",
     "text": [
      "Dominant Topic for ID NPR-6124: 11\n"
     ]
    }
   ],
   "source": [
    "df_topics = pd.read_csv(\"dialogues_with_topics_labeled.csv\")\n",
    "\n",
    "dialogue_id = df.iloc[row_idx][\"id\"]\n",
    "\n",
    "match = df_topics[df_topics[\"id\"] == dialogue_id]\n",
    "\n",
    "# Print the topic\n",
    "if not match.empty:\n",
    "    topic = match.iloc[0][\"dominant_topic\"]\n",
    "    print(f\"Dominant Topic for ID {dialogue_id}: {topic}\")\n",
    "else:\n",
    "    print(f\"ID {dialogue_id} not found in topic-labeled file.\")\n"
   ]
  },
  {
   "cell_type": "code",
   "execution_count": 3,
   "id": "a1936a9a-d669-41cc-bafd-fd8f4190df4d",
   "metadata": {},
   "outputs": [
    {
     "name": "stdout",
     "output_type": "stream",
     "text": [
      "Found 7 Obama dialogues with topic 11\n",
      "\n"
     ]
    }
   ],
   "source": [
    "obama_same_topic = df_topics[\n",
    "    (df_topics[\"source\"] == 0) & \n",
    "    (df_topics[\"dominant_topic\"] == topic)\n",
    "]\n",
    "\n",
    "print(f\"Found {len(obama_same_topic)} Obama dialogues with topic {topic}\\n\")"
   ]
  },
  {
   "cell_type": "code",
   "execution_count": 4,
   "id": "6e927bbf-0158-4230-a815-01ab14c13faf",
   "metadata": {},
   "outputs": [
    {
     "name": "stdout",
     "output_type": "stream",
     "text": [
      "✅ Saved 9 Obama sentences to obama_sent.csv\n"
     ]
    }
   ],
   "source": [
    "import pandas as pd\n",
    "import ast\n",
    "\n",
    "df_topics = pd.read_csv(\"dialogues_with_topics_labeled.csv\")\n",
    "obama_df = pd.read_csv(\"obama_speaker_rows.csv\")\n",
    "\n",
    "target_topic = topic\n",
    "\n",
    "obama_ids = df_topics[(df_topics[\"source\"] == 0) & (df_topics[\"dominant_topic\"] == target_topic)][\"id\"].tolist()\n",
    "\n",
    "obama_sentences = []\n",
    "\n",
    "for dialogue_id in obama_ids:\n",
    "    row = obama_df[obama_df[\"id\"] == dialogue_id]\n",
    "    if row.empty:\n",
    "        continue\n",
    "    utts = ast.literal_eval(row.iloc[0][\"utt\"]) if isinstance(row.iloc[0][\"utt\"], str) else row.iloc[0][\"utt\"]\n",
    "    speakers = ast.literal_eval(row.iloc[0][\"speaker\"]) if isinstance(row.iloc[0][\"speaker\"], str) else row.iloc[0][\"speaker\"]\n",
    "    \n",
    "    for spk, utt in zip(speakers, utts):\n",
    "        if spk.strip().upper() == \"BARACK OBAMA\":\n",
    "            obama_sentences.append(utt.strip())\n",
    "\n",
    "pd.DataFrame({\"sentence\": obama_sentences}).to_csv(\"obama_sent.csv\", index=False)\n",
    "print(f\"✅ Saved {len(obama_sentences)} Obama sentences to obama_sent.csv\")"
   ]
  }
 ],
 "metadata": {
  "kernelspec": {
   "display_name": "Python (transformers-env)",
   "language": "python",
   "name": "transformers-env"
  },
  "language_info": {
   "codemirror_mode": {
    "name": "ipython",
    "version": 3
   },
   "file_extension": ".py",
   "mimetype": "text/x-python",
   "name": "python",
   "nbconvert_exporter": "python",
   "pygments_lexer": "ipython3",
   "version": "3.10.13"
  }
 },
 "nbformat": 4,
 "nbformat_minor": 5
}
