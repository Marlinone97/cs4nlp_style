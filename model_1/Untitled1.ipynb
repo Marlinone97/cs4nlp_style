{
 "cells": [
  {
   "cell_type": "code",
   "execution_count": 2,
   "id": "5f65cf14-349e-4993-b4b5-270cbc1e80c6",
   "metadata": {},
   "outputs": [
    {
     "name": "stderr",
     "output_type": "stream",
     "text": [
      "Asking to truncate to max_length but no maximum length is provided and the model has no predefined maximum length. Default to no truncation.\n"
     ]
    },
    {
     "name": "stdout",
     "output_type": "stream",
     "text": [
      "Transfer to obama: Hillary Clinton is a bigot who sees people of color only as votes.\n"
     ]
    }
   ],
   "source": [
    "from transformers import BartTokenizer, BartForConditionalGeneration\n",
    "import torch \n",
    "\n",
    "tokenizer = BartTokenizer.from_pretrained(\"./bart-cycle-style\")\n",
    "model = BartForConditionalGeneration.from_pretrained(\"./bart-cycle-style\").to(\"cuda\")\n",
    "\n",
    "prompt = \"transfer to obama: Hillary Clinton is a bigot who sees people of color only as votes.\"\n",
    "inputs = tokenizer(prompt, return_tensors=\"pt\", truncation=True, padding=True).to(\"cuda\")\n",
    "\n",
    "with torch.no_grad():\n",
    "    outputs = model.generate(\n",
    "        **inputs,\n",
    "        max_length=64,\n",
    "        do_sample=True,\n",
    "        top_k=50,\n",
    "        top_p=0.9,\n",
    "        temperature=0.8,\n",
    "    )\n",
    "\n",
    "print(tokenizer.decode(outputs[0], skip_special_tokens=True))"
   ]
  }
 ],
 "metadata": {
  "kernelspec": {
   "display_name": "Python (politics_env)",
   "language": "python",
   "name": "politics_env"
  },
  "language_info": {
   "codemirror_mode": {
    "name": "ipython",
    "version": 3
   },
   "file_extension": ".py",
   "mimetype": "text/x-python",
   "name": "python",
   "nbconvert_exporter": "python",
   "pygments_lexer": "ipython3",
   "version": "3.10.16"
  }
 },
 "nbformat": 4,
 "nbformat_minor": 5
}
